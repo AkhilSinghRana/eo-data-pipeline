{
 "cells": [
  {
   "cell_type": "code",
   "execution_count": 1,
   "metadata": {},
   "outputs": [],
   "source": [
    "from pystac import Catalog\n",
    "import ipywidgets as widgets\n",
    "from IPython.display import display, Markdown"
   ]
  },
  {
   "cell_type": "code",
   "execution_count": 2,
   "metadata": {},
   "outputs": [
    {
     "name": "stdout",
     "output_type": "stream",
     "text": [
      "PySTAC catalog for saving Metadata\n"
     ]
    }
   ],
   "source": [
    "# Example STAC catalog URL (replace with your catalog URL or local path)\n",
    "catalog_url = \"../data/catalog_metadata/catalog.json\"\n",
    "\n",
    "# Load the STAC catalog\n",
    "catalog = Catalog.from_file(catalog_url)\n",
    "\n",
    "# Print the catalog description\n",
    "print(catalog.description)\n"
   ]
  },
  {
   "cell_type": "code",
   "execution_count": 3,
   "metadata": {},
   "outputs": [
    {
     "data": {
      "application/vnd.jupyter.widget-view+json": {
       "model_id": "cb91528ab74a4a148993004bfa5a0144",
       "version_major": 2,
       "version_minor": 0
      },
      "text/plain": [
       "Dropdown(description='Items:', layout=Layout(width='80%'), options=(('S2B_33TUL_20230214_0_L2A', <Item id=S2B_…"
      ]
     },
     "metadata": {},
     "output_type": "display_data"
    },
    {
     "data": {
      "application/vnd.jupyter.widget-view+json": {
       "model_id": "9347d1d630a342e2b15b0351a91ff594",
       "version_major": 2,
       "version_minor": 0
      },
      "text/plain": [
       "Output()"
      ]
     },
     "metadata": {},
     "output_type": "display_data"
    }
   ],
   "source": [
    "\n",
    "# Extract items\n",
    "items = list(catalog.get_all_items())\n",
    "\n",
    "# Create dropdown for items\n",
    "item_dropdown = widgets.Dropdown(\n",
    "    options=[(item.id, item) for item in items],\n",
    "    description='Items:',\n",
    "    style={'description_width': 'initial'},\n",
    "    layout=widgets.Layout(width='80%')\n",
    ")\n",
    "\n",
    "# Create output widget to display metadata\n",
    "metadata_output = widgets.Output()\n",
    "\n",
    "# Function to display metadata\n",
    "def display_metadata(item):\n",
    "    metadata_output.clear_output()\n",
    "    with metadata_output:\n",
    "        display(Markdown(f\"## Metadata for {item.id}\"))\n",
    "        display(Markdown(f\"**Date:** {item.datetime}\"))\n",
    "        display(Markdown(f\"**Geometry:** {item.geometry}\"))\n",
    "        display(Markdown(f\"**Assets:**\"))\n",
    "        for asset_key, asset in item.assets.items():\n",
    "            display(Markdown(f\" - **{asset_key}**: {asset.href}\"))\n",
    "        display(Markdown(f\"**Properties:**\"))\n",
    "        for key, value in item.properties.items():\n",
    "            display(Markdown(f\" - **{key}**: {value}\"))\n",
    "\n",
    "# Event handler for dropdown selection\n",
    "def on_item_change(change):\n",
    "    display_metadata(change['new'])\n",
    "\n",
    "item_dropdown.observe(on_item_change, names='value')\n",
    "\n",
    "# Display dropdown and metadata output\n",
    "display(item_dropdown, metadata_output)\n",
    "\n",
    "# Display metadata for the first item by default\n",
    "display_metadata(items[0])\n"
   ]
  },
  {
   "cell_type": "code",
   "execution_count": null,
   "metadata": {},
   "outputs": [],
   "source": []
  }
 ],
 "metadata": {
  "kernelspec": {
   "display_name": "eo-data-pipeline-g-VFve_A-py3.12",
   "language": "python",
   "name": "python3"
  },
  "language_info": {
   "codemirror_mode": {
    "name": "ipython",
    "version": 3
   },
   "file_extension": ".py",
   "mimetype": "text/x-python",
   "name": "python",
   "nbconvert_exporter": "python",
   "pygments_lexer": "ipython3",
   "version": "3.12.4"
  }
 },
 "nbformat": 4,
 "nbformat_minor": 2
}
